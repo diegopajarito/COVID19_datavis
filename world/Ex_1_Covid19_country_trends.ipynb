{
  "nbformat": 4,
  "nbformat_minor": 0,
  "metadata": {
    "colab": {
      "name": "Ex_1_Covid19_country_trends.ipynb",
      "provenance": [],
      "collapsed_sections": [],
      "authorship_tag": "ABX9TyPUh4N/hhedYoeY9SEqGdtW",
      "include_colab_link": true
    },
    "kernelspec": {
      "name": "python3",
      "display_name": "Python 3"
    }
  },
  "cells": [
    {
      "cell_type": "markdown",
      "metadata": {
        "id": "view-in-github",
        "colab_type": "text"
      },
      "source": [
        "<a href=\"https://colab.research.google.com/github/diegopajarito/COVID19_datavis/blob/master/world/Ex_1_Covid19_country_trends.ipynb\" target=\"_parent\"><img src=\"https://colab.research.google.com/assets/colab-badge.svg\" alt=\"Open In Colab\"/></a>"
      ]
    },
    {
      "cell_type": "markdown",
      "metadata": {
        "id": "hTGiiI4-wf_1",
        "colab_type": "text"
      },
      "source": [
        "# Introduction"
      ]
    },
    {
      "cell_type": "markdown",
      "metadata": {
        "id": "BlipZXV7a2XE",
        "colab_type": "text"
      },
      "source": [
        "This notebook aims to provide a set of basic analysis tools to help understanding how confirmed COVID-19 behave. The tools use data about confirmed cases as well as deaths and recovered cases.\n",
        "\n",
        "This tool uses [open datasets](https://github.com/CSSEGISandData/COVID-19) provided by the [Center for Systems Science and Engineering](https://systems.jhu.edu/), Johns Hopkins University. This exercise does not pretend to substitute official reports or publications. Therefore, it should be taken as an academic exercise for non-expert audiences (i.e., neither data scientists nor epidemiologists) interested in using data analysis tools in real-world cases.\n",
        "\n",
        "**Author**: *Diego Pajarito Grajales*\n",
        "\n",
        "**Twitter**: [*@diegopajarito*](https://twitter.com/diegopajarito)"
      ]
    },
    {
      "cell_type": "markdown",
      "metadata": {
        "id": "DNCGCXX3ari1",
        "colab_type": "text"
      },
      "source": [
        "# General Set-up and Data Access"
      ]
    },
    {
      "cell_type": "markdown",
      "metadata": {
        "id": "OOb88qtpdMj8",
        "colab_type": "text"
      },
      "source": [
        "[CSSEGIS](https://github.com/CSSEGISandData/COVID-19) maintains the two most famous datasets for the COVID-19 crisis. These datasets are updated constantly and made available through a GitHub Repository. This tool uses Python libraries such as [Pandas](https://pandas.pydata.org/) (i.e., a library for data manipulation and analysis), [Numpy](https://numpy.org) (i.e., a library for maths and multidimensional operations), [Seaborn](https://seaborn.pydata.org) and Matplotlib to handle data collection, mathematical operations and visualisation.\n",
        "\n",
        "*Task 1: Prepare the python environment by importing the libraries needed*"
      ]
    },
    {
      "cell_type": "code",
      "metadata": {
        "id": "WbP0qC6iapFi",
        "colab_type": "code",
        "colab": {}
      },
      "source": [
        "import pandas as pd\n",
        "import numpy as np\n",
        "import seaborn as sns\n",
        "import matplotlib.pyplot as plt"
      ],
      "execution_count": 0,
      "outputs": []
    },
    {
      "cell_type": "markdown",
      "metadata": {
        "id": "TFjUJ_teic-8",
        "colab_type": "text"
      },
      "source": [
        "To access web data. the libraries need addresses. In this case, data about COVID-19 is available at the CSSEGIS GitHub Repository.\n",
        "\n",
        "*Task 2: Set the links to access the latest data available from the [Center for Systems Science and Engineering](https://systems.jhu.edu/) at their GitHub repository*"
      ]
    },
    {
      "cell_type": "code",
      "metadata": {
        "id": "aLNvCttPiw7K",
        "colab_type": "code",
        "colab": {}
      },
      "source": [
        "jhu_link_confirmed = 'https://github.com/CSSEGISandData/COVID-19/raw/master/csse_covid_19_data/csse_covid_19_time_series/time_series_covid19_confirmed_global.csv'\n",
        "jhu_link_deaths = 'https://github.com/CSSEGISandData/COVID-19/raw/master/csse_covid_19_data/csse_covid_19_time_series/time_series_covid19_deaths_global.csv'"
      ],
      "execution_count": 0,
      "outputs": []
    },
    {
      "cell_type": "markdown",
      "metadata": {
        "id": "e7ulDhXJi4-V",
        "colab_type": "text"
      },
      "source": [
        "CSSEGIS data has a structure in which every day a new column is added to a table. To get data for a single country, we need functions to filter and set a structure compatible with plotting libraries. Using python functions, we can use filters, labels and time formats to prepare the data for visualisation.\n",
        "\n",
        "Task 3: Set a function that \n",
        "- Reads the published dataset using the links above.\n",
        "- Filters data by country.\n",
        "- Creates a dataframe (i.e., table-like structure used in python) with confirmed cases and reported date.\n",
        "- Sets the format needed for handling dates. \n",
        "\n",
        "Note: The use of functions makes it easier to call operations without re-writing long pieces of code (Also known as re-use)."
      ]
    },
    {
      "cell_type": "code",
      "metadata": {
        "id": "orgvJydajfoe",
        "colab_type": "code",
        "colab": {}
      },
      "source": [
        "def get_country_confirmed(country):\n",
        "    jhu_confirmed = pd.read_csv(jhu_link_confirmed)\n",
        "    country_data = jhu_confirmed[jhu_confirmed['Country/Region'] == country]\n",
        "    if len(country_data) == 1:\n",
        "        country_data = country_data.iloc[:, 4:]\n",
        "        country_data = country_data.T\n",
        "        country_data = country_data.reset_index()\n",
        "        country_data.columns = ['date', 'confirmed_cases']\n",
        "        country_data['date'] = pd.to_datetime(country_data['date'])\n",
        "    return country_data"
      ],
      "execution_count": 0,
      "outputs": []
    },
    {
      "cell_type": "markdown",
      "metadata": {
        "id": "q9PasgeAqfD-",
        "colab_type": "text"
      },
      "source": [
        "# Data visualisation for country-level trends\n",
        "## *Creating a cumulative line plot for the number of confirmed cases in a single country*\n"
      ]
    },
    {
      "cell_type": "markdown",
      "metadata": {
        "id": "88Sr2JOiqBly",
        "colab_type": "text"
      },
      "source": [
        "Task 1: Set parameters for filtering out the data for a specific country\n",
        "\n",
        "*Note: By changing this parameters (i.e., the value for the 'country' variable), you can plot confirmed cases for different countries in Task 2.*"
      ]
    },
    {
      "cell_type": "code",
      "metadata": {
        "id": "J2NkCfdYqJGI",
        "colab_type": "code",
        "colab": {}
      },
      "source": [
        "country = 'Italy'\n",
        "title = 'COVID-19 Cases in %s' % country"
      ],
      "execution_count": 0,
      "outputs": []
    },
    {
      "cell_type": "markdown",
      "metadata": {
        "id": "hnZxPL0nqKY-",
        "colab_type": "text"
      },
      "source": [
        "After getting a formatted dataset, additional operations are needed for obtaining meaningful labels in the plot.\n",
        "\n",
        "Task 2: Format the dataset by estimating the date in which Case-1 was reported and the correspondent day for confirmed cases.\n",
        "- Case-1 date is the day in which the country registered the first confirmed case of COVID-19\n",
        "- Every day after Case-1 is labelled using a sequence. This serves for comparison between countries.\n",
        "\n",
        "*Note: The data for some countries (e.g., China, France, United States, The Netherlands, Australia, United Kingdom, among others) report data per region causing errors in the following piece of code. In the following exercises, this issue will be addressed by grouping data per country.*"
      ]
    },
    {
      "cell_type": "code",
      "metadata": {
        "id": "VYd_4jkFq_Mr",
        "colab_type": "code",
        "colab": {
          "base_uri": "https://localhost:8080/",
          "height": 295
        },
        "outputId": "15b3db9a-17bb-482c-d65b-c6304d150ec8"
      },
      "source": [
        "data = get_country_confirmed(country)\n",
        "data = data[data['confirmed_cases'] > 0]\n",
        "initial_day = data['date'].min()\n",
        "data['day'] = data['date'] - initial_day\n",
        "data['day'] = data['day']/np.timedelta64(1, 'D')\n",
        "ax = sns.lineplot('day', 'confirmed_cases', data=data)\n",
        "ax.set(xlabel='Days after first case detected', ylabel='Confirmed cases', title=title)\n",
        "path = 'cases_%s' % country\n",
        "plt.savefig(path)"
      ],
      "execution_count": 59,
      "outputs": [
        {
          "output_type": "display_data",
          "data": {
            "image/png": "[encoded data removed]",
            "text/plain": [
              "<Figure size 432x288 with 1 Axes>"
            ]
          },
          "metadata": {
            "tags": []
          }
        }
      ]
    },
    {
      "cell_type": "markdown",
      "metadata": {
        "id": "6m2tW40cvDN-",
        "colab_type": "text"
      },
      "source": [
        "Note: Plots are automatically saved as png files (see the last two lines of code) in the same folder of this notebook. When using Google Colab, you can check the files by clicking the \"Files\" icon located at the left menu of this page. \n",
        "\n",
        "***Folder \"content/\"***"
      ]
    },
    {
      "cell_type": "markdown",
      "metadata": {
        "id": "C7-AQq5IuBiv",
        "colab_type": "text"
      },
      "source": [
        "## *Adding death cases to the cumulative line plot for a single country*"
      ]
    },
    {
      "cell_type": "markdown",
      "metadata": {
        "id": "X9OcASiSuO1m",
        "colab_type": "text"
      },
      "source": [
        "CSSS data also includes confirmed deaths produced by COVID-19. A similar process is followed to plot both confirmed and death cases in a single plot.\n",
        "\n",
        "Task 1: Set the function "
      ]
    },
    {
      "cell_type": "code",
      "metadata": {
        "id": "zGz7nCjavDny",
        "colab_type": "code",
        "colab": {}
      },
      "source": [
        "def get_country_deaths(country):\n",
        "    jhu_deaths = pd.read_csv(jhu_link_deaths)\n",
        "    country_data = jhu_deaths[jhu_deaths['Country/Region'] == country]\n",
        "    if len(country_data) == 1:\n",
        "        country_data = country_data.iloc[:, 4:]\n",
        "        country_data = country_data.T\n",
        "        country_data = country_data.reset_index()\n",
        "        country_data.columns = ['date', 'deaths']\n",
        "        country_data['date'] = pd.to_datetime(country_data['date'])\n",
        "    return country_data"
      ],
      "execution_count": 0,
      "outputs": []
    },
    {
      "cell_type": "markdown",
      "metadata": {
        "id": "oPB3aknS_o4K",
        "colab_type": "text"
      },
      "source": [
        "Task 2: Set the parameters needed for filtering the data set for a specific country as in the section above. \n",
        "\n",
        "*Note: By changing these parameters (i.e., the value for the 'country' variable), you can plot confirmed cases for different countries in Tasks 3 and 4.*"
      ]
    },
    {
      "cell_type": "code",
      "metadata": {
        "id": "zB6RyhOvraZ_",
        "colab_type": "code",
        "colab": {}
      },
      "source": [
        "country = 'Italy'\n",
        "title = 'COVID-19 Cases in %s' % country\n",
        "yaxis_label = ''\n",
        "xaxis_label = 'Days after first case detected'"
      ],
      "execution_count": 0,
      "outputs": []
    },
    {
      "cell_type": "markdown",
      "metadata": {
        "id": "0B0xK2-vALX8",
        "colab_type": "text"
      },
      "source": [
        "After getting a formatted dataset, additional operations are needed for obtaining meaningful labels in the plot.\n",
        "\n",
        "Task 2: Format the dataset by estimating the date in which Case-1 was reported and the correspondent day for confirmed and death cases.\n",
        "\n",
        "- Case-1 date is the day in which the country registered the first confirmed case of COVID-19\n",
        "- Every day after Case-1 is labelled using a sequence. This serves for comparison between countries.\n",
        "- Now there are two datasets (i.e., confirmed and death cases), so the format task is made for the two of them.\n",
        "\n",
        "Note: The data for some countries (e.g., China, France, United States, The Netherlands, Australia, United Kingdom, among others) report data per region causing errors in the following piece of code. In the following exercises, this issue will be addressed by grouping data per country."
      ]
    },
    {
      "cell_type": "code",
      "metadata": {
        "id": "xbkTA_69AQ2L",
        "colab_type": "code",
        "colab": {}
      },
      "source": [
        "# Data format for confirmed cases\n",
        "data = get_country_confirmed(country)\n",
        "data = data[data['confirmed_cases'] > 0]\n",
        "initial_day = data['date'].min()\n",
        "data['day'] = data['date'] - initial_day\n",
        "data['day'] = data['day']/np.timedelta64(1, 'D')\n",
        "\n",
        "# Data format for death cases\n",
        "data_deaths = get_country_deaths(country)\n",
        "data_deaths = data_deaths[data_deaths['deaths'] > 0]\n",
        "data_deaths['day'] = data_deaths['date'] - initial_day\n",
        "data_deaths['day'] = data_deaths['day']/np.timedelta64(1, 'D')"
      ],
      "execution_count": 0,
      "outputs": []
    },
    {
      "cell_type": "markdown",
      "metadata": {
        "id": "_3JHy60pBn3s",
        "colab_type": "text"
      },
      "source": [
        "Once the two datasets are formatted, each data set generates a line.\n",
        "\n",
        "Task 3: Create two line plots and set title and labels"
      ]
    },
    {
      "cell_type": "code",
      "metadata": {
        "id": "bfFVryh0BL_0",
        "colab_type": "code",
        "colab": {
          "base_uri": "https://localhost:8080/",
          "height": 295
        },
        "outputId": "1a640a30-83e5-41b9-dc69-1c0f02f86b3e"
      },
      "source": [
        "ax = sns.lineplot('day', 'confirmed_cases', data=data, label='Confirmed Cases')\n",
        "ax1 = sns.lineplot('day', 'deaths', data=data_deaths, label='Death Cases')\n",
        "plt.title(title)\n",
        "plt.xlabel(xaxis_label)\n",
        "plt.ylabel(yaxis_label)\n",
        "path = 'cases_deaths_%s' % country\n",
        "plt.savefig(path)"
      ],
      "execution_count": 63,
      "outputs": [
        {
          "output_type": "display_data",
          "data": {
            "image/png": "[encoded data removed]",
            "text/plain": [
              "<Figure size 432x288 with 1 Axes>"
            ]
          },
          "metadata": {
            "tags": []
          }
        }
      ]
    },
    {
      "cell_type": "markdown",
      "metadata": {
        "id": "4WVxFoxyEGfz",
        "colab_type": "text"
      },
      "source": [
        "Note: Plots are automatically saved as png files (see the last two lines of code) in the same folder of this notebook. When using Google Colab, you can check the files by clicking the \"Files\" icon located at the left menu of this page. \n",
        "\n",
        "***Folder \"content/\"***"
      ]
    },
    {
      "cell_type": "markdown",
      "metadata": {
        "id": "tDEIGrJhEIrx",
        "colab_type": "text"
      },
      "source": [
        "# Final thoughts"
      ]
    },
    {
      "cell_type": "markdown",
      "metadata": {
        "id": "FsViWDoDEL1f",
        "colab_type": "text"
      },
      "source": [
        "This exercise helped to i) access a public data set for COVID-19 cases and ii) plot trends for a specific country. Find advanced tasks in the following exercises.\n",
        "\n",
        "This notebook is part of Diego's project to visualise COVID-19 data. If you want to get access to the source code or additional notebooks, please go to the [GitHub Repository](https://github.com/diegopajarito/COVID19_datavis) or simply contact [Diego Pajarito G. in Twitter](https://twitter.com/diegopajarito)"
      ]
    }
  ]
}